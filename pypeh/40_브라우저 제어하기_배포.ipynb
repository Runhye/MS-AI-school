{
 "cells": [
  {
   "cell_type": "markdown",
   "metadata": {},
   "source": [
    "# 웹드라이버 객체 생성\n",
    "- 웹드라이버 : 브라우저 조작을 위한 도구\n",
    "- selenium의 webdriver 모듈에서 Chrome 브라우저를 제어하기 위한 클래스 제공"
   ]
  },
  {
   "cell_type": "code",
   "execution_count": 4,
   "metadata": {},
   "outputs": [
    {
     "ename": "SyntaxError",
     "evalue": "invalid syntax (2332330234.py, line 3)",
     "output_type": "error",
     "traceback": [
      "\u001b[1;36m  Cell \u001b[1;32mIn[4], line 3\u001b[1;36m\u001b[0m\n\u001b[1;33m    pip show selenium\u001b[0m\n\u001b[1;37m        ^\u001b[0m\n\u001b[1;31mSyntaxError\u001b[0m\u001b[1;31m:\u001b[0m invalid syntax\n"
     ]
    }
   ],
   "source": [
    "!pip install selenium==4.17.0"
   ]
  },
  {
   "cell_type": "code",
   "execution_count": 7,
   "metadata": {},
   "outputs": [
    {
     "name": "stdout",
     "output_type": "stream",
     "text": [
      "Collecting typing_extensions\n",
      "  Downloading typing_extensions-4.12.2-py3-none-any.whl.metadata (3.0 kB)\n",
      "Downloading typing_extensions-4.12.2-py3-none-any.whl (37 kB)\n",
      "Installing collected packages: typing_extensions\n",
      "Successfully installed typing_extensions-4.12.2\n"
     ]
    },
    {
     "name": "stderr",
     "output_type": "stream",
     "text": [
      "\n",
      "[notice] A new release of pip is available: 24.3.1 -> 25.0\n",
      "[notice] To update, run: python.exe -m pip install --upgrade pip\n"
     ]
    }
   ],
   "source": [
    "!pip install typing_extensions"
   ]
  },
  {
   "cell_type": "code",
   "execution_count": 8,
   "metadata": {},
   "outputs": [],
   "source": [
    "# 크롬 웹드라이버 클래스 import\n",
    "from selenium.webdriver import Chrome\n",
    "\n",
    "# 크롬 웹드라이버 객체 생성\n",
    "driver=Chrome()"
   ]
  },
  {
   "cell_type": "markdown",
   "metadata": {},
   "source": [
    "# 브라우저 제어\n",
    "    - `get(URL)` : 페이지로 이동하기기\n",
    "    - `back()` : 뒤로가기\n",
    "    - `forward()` : 앞으로가기\n",
    "    - `refresh()` : 새로고침\n",
    "    - `maximize_window()` : 브라우저크기 최대화\n",
    "    - `minimize_window()` : 브라우저크기 최소화\n",
    "    - `close()` : 웹드라이버로 생성한 현재 창 종료\n",
    "    - `quit()` : 웹드라이버로 생성한 모든 창 종료"
   ]
  },
  {
   "cell_type": "code",
   "execution_count": 11,
   "metadata": {},
   "outputs": [],
   "source": [
    "# 브라우저 크기 최소화\n",
    "driver.minimize_window()\n",
    "\n",
    "# 브라우저 크기 최대화\n",
    "#driver.maximize_window()\n"
   ]
  },
  {
   "cell_type": "code",
   "execution_count": 14,
   "metadata": {},
   "outputs": [],
   "source": [
    "# 페이지 이동1\n",
    "driver.get(\"https://www.naver.com\")\n",
    "\n",
    "# 페이지 이동2\n",
    "driver.get(\"https://www.google.com\")\n",
    "\n",
    "# 페이지 이동3\n",
    "driver.get(\"https://www.daum.net\")"
   ]
  },
  {
   "cell_type": "code",
   "execution_count": 15,
   "metadata": {},
   "outputs": [],
   "source": [
    "# 이전 페이지로 이동\n",
    "driver.back()"
   ]
  },
  {
   "cell_type": "code",
   "execution_count": 16,
   "metadata": {},
   "outputs": [],
   "source": [
    "# 다음 페이지로 이동\n",
    "driver.forward()\n"
   ]
  },
  {
   "cell_type": "code",
   "execution_count": 17,
   "metadata": {},
   "outputs": [],
   "source": [
    "# 새로고침\n",
    "driver.refresh()"
   ]
  },
  {
   "cell_type": "code",
   "execution_count": 20,
   "metadata": {},
   "outputs": [],
   "source": [
    "#웹드라이버로 생성한 현재 창 종료\n",
    "#driver.close()\n",
    "\n",
    "# 웹드라이버로 생성한 모든 창 종료\n",
    "driver.quit()\n"
   ]
  },
  {
   "cell_type": "markdown",
   "metadata": {},
   "source": [
    "# 요소 가져오기\n",
    "    - `find_element(요소선택방법, 선택자)` : 첫번째 요소 한개만만 가져오기\n",
    "    - `find_elements(요소선택방법, 선택자)` : 요소 모두 가져오기 (리스트)"
   ]
  },
  {
   "cell_type": "code",
   "execution_count": 24,
   "metadata": {},
   "outputs": [],
   "source": [
    "# 웹페이지 열고 이동하기 (http://www.naver.com)\n",
    "from selenium.webdriver import Chrome\n",
    "driver=Chrome()\n",
    "driver.get(\"https://www.naver.com\")\n",
    "driver.maximize_window()"
   ]
  },
  {
   "cell_type": "code",
   "execution_count": 15,
   "metadata": {},
   "outputs": [],
   "source": [
    "# 검색창 선택하기\n"
   ]
  },
  {
   "cell_type": "markdown",
   "metadata": {},
   "source": [
    "# 요소 제어하기\n",
    "    - `click()` : 요소 클릭\n",
    "    - `send_keys()` : 키 입력"
   ]
  },
  {
   "cell_type": "code",
   "execution_count": 16,
   "metadata": {},
   "outputs": [],
   "source": [
    "# 검색창 클릭\n"
   ]
  },
  {
   "cell_type": "code",
   "execution_count": 17,
   "metadata": {},
   "outputs": [],
   "source": [
    "# 검색어 입력\n"
   ]
  },
  {
   "cell_type": "code",
   "execution_count": 18,
   "metadata": {},
   "outputs": [],
   "source": [
    "# 엔터키 입력\n"
   ]
  },
  {
   "cell_type": "code",
   "execution_count": null,
   "metadata": {},
   "outputs": [],
   "source": [
    "# 브라우저 닫기"
   ]
  }
 ],
 "metadata": {
  "kernelspec": {
   "display_name": "Python 3",
   "language": "python",
   "name": "python3"
  },
  "language_info": {
   "codemirror_mode": {
    "name": "ipython",
    "version": 3
   },
   "file_extension": ".py",
   "mimetype": "text/x-python",
   "name": "python",
   "nbconvert_exporter": "python",
   "pygments_lexer": "ipython3",
   "version": "3.13.1"
  }
 },
 "nbformat": 4,
 "nbformat_minor": 2
}
