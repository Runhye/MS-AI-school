{
 "cells": [
  {
   "cell_type": "code",
   "execution_count": 1,
   "metadata": {},
   "outputs": [],
   "source": [
    "url = \"https://finance.naver.com/news/mainnews.naver\"\n",
    "\n",
    "from selenium.webdriver import Chrome\n",
    "driver = Chrome()\n",
    "driver.maximize_window()\n",
    "driver.get(url)"
   ]
  },
  {
   "cell_type": "code",
   "execution_count": 44,
   "metadata": {},
   "outputs": [
    {
     "data": {
      "text/plain": [
       "{'subject': '기업거버넌스포럼 “파행적 고려아연 임시 주총에 국격 추락”',\n",
       " 'summary': '최대주주 영풍의 의결권을 기습적으로 배제하면서 파행적으로 진행된 고려아연의 임시주주총회에 대해 국격을 추락시키는 행위였다는 비판이 제기.. 데일리안 | 2025-01-31 10:56:13',\n",
       " 'press': '데일리안',\n",
       " 'wdate': '2025-01-31 10:56:13'}"
      ]
     },
     "metadata": {},
     "output_type": "display_data"
    },
    {
     "data": {
      "text/plain": [
       "{'subject': '암호화폐 베테랑 \"비트코인 2~3월 13만달러 돌파\"',\n",
       " 'summary': '월가에서 암호화폐 베테랑으로 불리는 제프 켄드릭 스탠다드차타드(SC) 애널리스트가 비트코인 강세론을 주장하고 나섰다. 30일(현지시간).. 한국경제TV | 2025-01-31 10:43:15',\n",
       " 'press': '한국경제TV',\n",
       " 'wdate': '2025-01-31 10:43:15'}"
      ]
     },
     "metadata": {},
     "output_type": "display_data"
    },
    {
     "data": {
      "text/plain": [
       "{'subject': \"삼성운용 'KODEX 200타겟위클리커버드콜', 두 달만에 순자산 1000억 돌파\",\n",
       " 'summary': '최근 ‘세금 없는’ 국내 주식 시세차익과 장내 파생상품 수익을 활용해 매월 고배당과 추가 수익을 추구하는 국내 자산 연계 타겟커버드콜에.. 파이낸셜뉴스 | 2025-01-31 10:34:36',\n",
       " 'press': '파이낸셜뉴스',\n",
       " 'wdate': '2025-01-31 10:34:36'}"
      ]
     },
     "metadata": {},
     "output_type": "display_data"
    },
    {
     "data": {
      "text/plain": [
       "{'subject': \"연휴 후 한국 증시, 반도체주 '딥시크 쇼크'\",\n",
       " 'summary': '연휴를 마치고 개장한 코스피가 하락세로 출발했다. 연휴 기간 발생한 다양한 해외 이슈들이 한꺼번에 반영되며 지수에 영향을 미친 것으로 .. 아시아경제 | 2025-01-31 10:11:09',\n",
       " 'press': '아시아경제',\n",
       " 'wdate': '2025-01-31 10:11:09'}"
      ]
     },
     "metadata": {},
     "output_type": "display_data"
    },
    {
     "data": {
      "text/plain": [
       "{'subject': '메모리 양극화 심화에…삼성전자 4분기 반도체 영업익 2.9조(종합)',\n",
       " 'summary': \"역대 2번째 연간 300조원대 매출…연간 R&D·시설투자는 사상 최대 올해 '상저하고' 흐름 보일 듯…HBM3E 판매 확대 관건 삼성전.. 연합뉴스 | 2025-01-31 10:09:54\",\n",
       " 'press': '연합뉴스',\n",
       " 'wdate': '2025-01-31 10:09:54'}"
      ]
     },
     "metadata": {},
     "output_type": "display_data"
    },
    {
     "data": {
      "text/plain": [
       "{'subject': '‘딥시크 쇼크’에 관련주 희비…‘반도체’ 울고 ‘AI소프트웨어’ 웃고',\n",
       " 'summary': '‘딥시크 쇼크’ 영향으로 반도체장비 관련주와 인공지능(AI)소프트웨어 관련주의 희비가 엇갈리고 있다. 31일 오전 9시 55분 현재 한.. 매일경제 | 2025-01-31 10:09:08',\n",
       " 'press': '매일경제',\n",
       " 'wdate': '2025-01-31 10:09:08'}"
      ]
     },
     "metadata": {},
     "output_type": "display_data"
    },
    {
     "data": {
      "text/plain": [
       "{'subject': '\"백종원 믿고 샀는데\" 신저가 찍은 더본코리아…99.99%가 \\'비명\\'',\n",
       " 'summary': '백종원 대표의 더본코리아가 장 중 2%대 내리며 52주 신저가를 기록했다. 31일 오전 9시55분 기준 코스피 시장에서 더본코리아는 전.. 머니투데이 | 2025-01-31 10:08:44',\n",
       " 'press': '머니투데이',\n",
       " 'wdate': '2025-01-31 10:08:44'}"
      ]
     },
     "metadata": {},
     "output_type": "display_data"
    },
    {
     "data": {
      "text/plain": [
       "{'subject': '미래운용 ‘TIGER 미국필라델피아AI반도체나스닥’, 순자산 3000억 돌파',\n",
       " 'summary': '미래에셋자산운용은 ‘TIGER 미국필라델피아AI반도체나스닥’ 상장지수펀드(ETF)의 순자산이 3000억원을 돌파했다고 31일 밝혔다. .. 이데일리 | 2025-01-31 10:07:09',\n",
       " 'press': '이데일리',\n",
       " 'wdate': '2025-01-31 10:07:09'}"
      ]
     },
     "metadata": {},
     "output_type": "display_data"
    },
    {
     "data": {
      "text/plain": [
       "{'subject': '‘반도체 뒷걸음질’ 삼성전자…외국인 보유 비중 2년來 최저 [투자360]',\n",
       " 'summary': '50.24%…2023년 1월 이후 최저 외인 6개월 순매도 1위, 2위도 우선주 증권사 7곳 이달 목표주가 하향 ‘가성비 AI 모델’ .. 헤럴드경제 | 2025-01-31 10:02:10',\n",
       " 'press': '헤럴드경제',\n",
       " 'wdate': '2025-01-31 10:02:10'}"
      ]
     },
     "metadata": {},
     "output_type": "display_data"
    },
    {
     "data": {
      "text/plain": [
       "{'subject': '“투자자 99%가 손실이라니”…리니지 제국 다시 부활할까 [K주식 이걸 사? 말아?]',\n",
       " 'summary': '104만원→17만원 4년 만에 주저앉은 엔씨소프트 주가입니다. 한때 리니지 진성 유저, 이른바 ‘린저씨’들의 사랑을 듬뿍 받으며 국내 .. 매일경제 | 2025-01-31 10:00:10',\n",
       " 'press': '매일경제',\n",
       " 'wdate': '2025-01-31 10:00:10'}"
      ]
     },
     "metadata": {},
     "output_type": "display_data"
    },
    {
     "data": {
      "text/plain": [
       "{'subject': '딥시크 충격에 SK하이닉스 약세…네이버·카카오 급등',\n",
       " 'summary': '설 연휴를 끝내고 개장한 국내 증시가 하락 출발했다. 연휴 기간 글로벌 증시에 충격을 안긴 중국 인공지능(AI) 기업 딥시크의 영향이 .. 아시아경제 | 2025-01-31 09:58:01',\n",
       " 'press': '아시아경제',\n",
       " 'wdate': '2025-01-31 09:58:01'}"
      ]
     },
     "metadata": {},
     "output_type": "display_data"
    },
    {
     "data": {
      "text/plain": [
       "{'subject': '\"언젠간 오르겠지\" 버텼는데 적자 확대…호텔신라 목표가도 \\'뚝뚝\\'',\n",
       " 'summary': '지난해 4분기 부진한 실적을 낸 호텔신라가 장 중 3%대 하락 중이다. 호텔신라에 대한 증권가의 시선이 낮아진다. 31일 오전 9시 3.. 머니투데이 | 2025-01-31 09:49:16',\n",
       " 'press': '머니투데이',\n",
       " 'wdate': '2025-01-31 09:49:16'}"
      ]
     },
     "metadata": {},
     "output_type": "display_data"
    },
    {
     "data": {
      "text/plain": [
       "{'subject': '`딥시크 쇼크` 국장 덮쳤다…SK하이닉스 10%대↓',\n",
       " 'summary': '엔비디아 17% 폭락 여파 중국의 저비용 인공지능(AI) 딥시크(DeepSeek)의 등장 충격에 국내 주식시장도 요동치고 있다. 설 명.. 디지털타임스 | 2025-01-31 09:42:07',\n",
       " 'press': '디지털타임스',\n",
       " 'wdate': '2025-01-31 09:42:07'}"
      ]
     },
     "metadata": {},
     "output_type": "display_data"
    },
    {
     "data": {
      "text/plain": [
       "{'subject': '현금부자 주목, KODEX 200타겟위클리커버드콜…순자산 1000억 돌파',\n",
       " 'summary': '국내 자산과 연계된 타겟커버드콜 상품에 투자자 관심이 커진다. 1억원을 투자하면 월 142만원을 받을 수 있는데 세금은 3만원 수준이라.. 머니투데이 | 2025-01-31 09:41:32',\n",
       " 'press': '머니투데이',\n",
       " 'wdate': '2025-01-31 09:41:32'}"
      ]
     },
     "metadata": {},
     "output_type": "display_data"
    },
    {
     "data": {
      "text/plain": [
       "{'subject': '허선호 미래에셋증권 대표 \"서학개미 13조 벌어, 중국·인도로 분산투자\"',\n",
       " 'summary': '허선호 미래에셋증권 대표가 최근 투자자들에게 보낸 투자레터를 보내 지난해 성과를 소개하고 투자 포트폴리오를 다양화 하겠다는 의지를 강조.. 머니S | 2025-01-31 09:40:46',\n",
       " 'press': '머니S',\n",
       " 'wdate': '2025-01-31 09:40:46'}"
      ]
     },
     "metadata": {},
     "output_type": "display_data"
    },
    {
     "data": {
      "text/plain": [
       "{'subject': '“미·중 AI 패권전쟁 시작됐다”…엔비디아 누른 ‘가성비 AI’ 딥시크 파장 어디까지? [투자360]',\n",
       " 'summary': '中 AI 스타트업 딥시크, 저비용 고성능 AI 모델 개발 비용효율적 AI 등장에 시장 ‘흔들’ “AI 산업엔 호재 엔비디아엔 악재” [.. 헤럴드경제 | 2025-01-31 09:40:08',\n",
       " 'press': '헤럴드경제',\n",
       " 'wdate': '2025-01-31 09:40:08'}"
      ]
     },
     "metadata": {},
     "output_type": "display_data"
    },
    {
     "data": {
      "text/plain": [
       "{'subject': '\"네이버도 할 수 있는 거 아냐?\"…\\'딥시크 등장\\'에 주가 급등',\n",
       " 'summary': \"중국 생성형 인공지능(AI) '딥시크'가 저비용으로 챗GPT와 유사한 성능의 AI 추론 모델을 만들어내면서 국내 증시에서 AI 소프트웨.. 한국경제 | 2025-01-31 09:38:17\",\n",
       " 'press': '한국경제',\n",
       " 'wdate': '2025-01-31 09:38:17'}"
      ]
     },
     "metadata": {},
     "output_type": "display_data"
    },
    {
     "data": {
      "text/plain": [
       "{'subject': '기다리던 엔비디아 HBM 납품 소식인데…삼성전자, 2%대 하락[핫종목]',\n",
       " 'summary': '삼성전자(005930)가 엔비디아에 5세대 고대역폭메모리(HBM) HBM3E 8단 제품을 납품했다는 소식에도 31일 하락 중이다. 이날.. 뉴스1 | 2025-01-31 09:34:41',\n",
       " 'press': '뉴스1',\n",
       " 'wdate': '2025-01-31 09:34:41'}"
      ]
     },
     "metadata": {},
     "output_type": "display_data"
    },
    {
     "data": {
      "text/plain": [
       "{'subject': \"'딥시크 쇼크' 20만닉스도 위태…반도체주 줄줄이 '휘청'\",\n",
       " 'summary': \"SK하이닉스가 장 초반 11%대 하락했다. 반도체주 대부분이 약세다. 중국 AI(인공지능) 스타트업 '딥시크'발 충격 여파다. 31일 .. 머니투데이 | 2025-01-31 09:34:18\",\n",
       " 'press': '머니투데이',\n",
       " 'wdate': '2025-01-31 09:34:18'}"
      ]
     },
     "metadata": {},
     "output_type": "display_data"
    },
    {
     "data": {
      "text/plain": [
       "{'subject': '앱트뉴로사이언스-에이프로젠, 파킨슨병 치료제 공동개발 계약 체결',\n",
       " 'summary': '연내 라이선스아웃 목표 국내 바이오시밀러 기업 에이프로젠은 앱트뉴로사이언스와 파킨슨병 치료제를 올해 내에 라이선스 아웃하고 특허권리 범.. 매일경제 | 2025-01-31 09:34:09',\n",
       " 'press': '매일경제',\n",
       " 'wdate': '2025-01-31 09:34:09'}"
      ]
     },
     "metadata": {},
     "output_type": "display_data"
    },
    {
     "ename": "AttributeError",
     "evalue": "'dict' object has no attribute 'find_element'",
     "output_type": "error",
     "traceback": [
      "\u001b[1;31m---------------------------------------------------------------------------\u001b[0m",
      "\u001b[1;31mAttributeError\u001b[0m                            Traceback (most recent call last)",
      "Cell \u001b[1;32mIn[44], line 7\u001b[0m\n\u001b[0;32m      5\u001b[0m article_list\u001b[38;5;241m=\u001b[39m[]\n\u001b[0;32m      6\u001b[0m \u001b[38;5;28;01mfor\u001b[39;00m article \u001b[38;5;129;01min\u001b[39;00m articles:\n\u001b[1;32m----> 7\u001b[0m        subject\u001b[38;5;241m=\u001b[39m\u001b[43marticle\u001b[49m\u001b[38;5;241;43m.\u001b[39;49m\u001b[43mfind_element\u001b[49m(By\u001b[38;5;241m.\u001b[39mCSS_SELECTOR,\u001b[38;5;124m\"\u001b[39m\u001b[38;5;124m.articleSubject\u001b[39m\u001b[38;5;124m\"\u001b[39m)\u001b[38;5;241m.\u001b[39mtext \u001b[38;5;66;03m#요소객체 article\u001b[39;00m\n\u001b[0;32m      8\u001b[0m        summary\u001b[38;5;241m=\u001b[39marticle\u001b[38;5;241m.\u001b[39mfind_element(By\u001b[38;5;241m.\u001b[39mCSS_SELECTOR,\u001b[38;5;124m\"\u001b[39m\u001b[38;5;124m.articleSummary\u001b[39m\u001b[38;5;124m\"\u001b[39m)\u001b[38;5;241m.\u001b[39mtext\n\u001b[0;32m      9\u001b[0m        press\u001b[38;5;241m=\u001b[39marticle\u001b[38;5;241m.\u001b[39mfind_element(By\u001b[38;5;241m.\u001b[39mCSS_SELECTOR,\u001b[38;5;124m\"\u001b[39m\u001b[38;5;124m.press\u001b[39m\u001b[38;5;124m\"\u001b[39m)\u001b[38;5;241m.\u001b[39mtext\n",
      "\u001b[1;31mAttributeError\u001b[0m: 'dict' object has no attribute 'find_element'"
     ]
    }
   ],
   "source": [
    " # 제목 요소 선택\n",
    "from selenium.webdriver.common.by import By\n",
    "articles = driver.find_elements(By.CSS_SELECTOR, \".block1\")\n",
    "\n",
    "article_list=[]\n",
    "for article in articles:\n",
    "        subject=article.find_element(By.CSS_SELECTOR,\".articleSubject\").text #요소객체 article\n",
    "        summary=article.find_element(By.CSS_SELECTOR,\".articleSummary\").text\n",
    "        press=article.find_element(By.CSS_SELECTOR,\".press\").text\n",
    "        wdate=article.find_element(By.CSS_SELECTOR,\".wdate\").text\n",
    "        link=article.find_element(By.CSS_SELECTOR, \".articleSubject>a\").get_attribute(\"href\")  #link는 no text\n",
    "        article_list.append({\"subject\": subject, \"summary\": summary, \"press\": press, \"link\":link})\n",
    "\n",
    "        data = {\n",
    "        'subject': subject,\n",
    "        'summary': summary,\n",
    "        'press': press,\n",
    "        'wdate': wdate\n",
    "        }\n",
    "        display(data)\n",
    "        articles.append(data)"
   ]
  },
  {
   "cell_type": "code",
   "execution_count": 49,
   "metadata": {},
   "outputs": [
    {
     "data": {
      "text/html": [
       "<div>\n",
       "<style scoped>\n",
       "    .dataframe tbody tr th:only-of-type {\n",
       "        vertical-align: middle;\n",
       "    }\n",
       "\n",
       "    .dataframe tbody tr th {\n",
       "        vertical-align: top;\n",
       "    }\n",
       "\n",
       "    .dataframe thead th {\n",
       "        text-align: right;\n",
       "    }\n",
       "</style>\n",
       "<table border=\"1\" class=\"dataframe\">\n",
       "  <thead>\n",
       "    <tr style=\"text-align: right;\">\n",
       "      <th></th>\n",
       "      <th>subject</th>\n",
       "      <th>summary</th>\n",
       "      <th>press</th>\n",
       "      <th>wdate</th>\n",
       "      <th>link</th>\n",
       "    </tr>\n",
       "  </thead>\n",
       "  <tbody>\n",
       "    <tr>\n",
       "      <th>0</th>\n",
       "      <td>저가매수 타이밍? '딥시크 타격' HD현대일렉트릭 순매수 1위[주식 초고수는 지금]</td>\n",
       "      <td>미래에셋증권(006800)에서 거래하는 고수익 투자자들이 24일 오전 가장 많이 순...</td>\n",
       "      <td>서울경제</td>\n",
       "      <td>2025-01-31 11:53:10</td>\n",
       "      <td>https://n.news.naver.com/mnews/article/011/000...</td>\n",
       "    </tr>\n",
       "    <tr>\n",
       "      <th>1</th>\n",
       "      <td>딥시크발 ‘딥쇼크’… SK하이닉스 장중 11% 급락</td>\n",
       "      <td>코스피 전체는 0.1% 하락 출발 한미반도체 6%·삼성전자 2%↓ 인프라 관련 투자...</td>\n",
       "      <td>문화일보</td>\n",
       "      <td>2025-01-31 11:47:31</td>\n",
       "      <td>https://n.news.naver.com/mnews/article/021/000...</td>\n",
       "    </tr>\n",
       "    <tr>\n",
       "      <th>2</th>\n",
       "      <td>SEC, 비트코인·이더리움 혼합 ETF 승인…알트코인 ETF 출시 가속화 기대</td>\n",
       "      <td>비트와이즈, 도지코인 ETF도 신청 미국에서 가상자산을 담고 있는 상장지수펀드(ET...</td>\n",
       "      <td>매일경제</td>\n",
       "      <td>2025-01-31 11:45:08</td>\n",
       "      <td>https://n.news.naver.com/mnews/article/009/000...</td>\n",
       "    </tr>\n",
       "    <tr>\n",
       "      <th>3</th>\n",
       "      <td>이거 했더니 솔라나 일년 수익률 212%...단순 보유보다 20% 더 이득</td>\n",
       "      <td>보상 쌓이는 스테이킹하면 추가 수익 업비트 스테이킹 참여 3.8조 넘어 지난해 업비...</td>\n",
       "      <td>매일경제</td>\n",
       "      <td>2025-01-31 11:44:15</td>\n",
       "      <td>https://n.news.naver.com/mnews/article/009/000...</td>\n",
       "    </tr>\n",
       "    <tr>\n",
       "      <th>4</th>\n",
       "      <td>딥시크 수혜?…애플, 아이폰 부진에도 주가 상승반전</td>\n",
       "      <td>애플의 주가가 실적 발표 후 시간외거래에서 상승 반전했다. 딥쇼크 쇼크로 애플의 뒤...</td>\n",
       "      <td>이데일리</td>\n",
       "      <td>2025-01-31 11:39:09</td>\n",
       "      <td>https://n.news.naver.com/mnews/article/018/000...</td>\n",
       "    </tr>\n",
       "    <tr>\n",
       "      <th>...</th>\n",
       "      <td>...</td>\n",
       "      <td>...</td>\n",
       "      <td>...</td>\n",
       "      <td>...</td>\n",
       "      <td>...</td>\n",
       "    </tr>\n",
       "    <tr>\n",
       "      <th>97</th>\n",
       "      <td>지난해 등록 ABS 발행액 21.8% 감소…주금공 MBS 절반 급감</td>\n",
       "      <td>지난해 한국주택금융공사 주택저당증권(MBS) 발행이 줄면서 등록 자산유동화증권(AB...</td>\n",
       "      <td>뉴스1</td>\n",
       "      <td>2025-01-31 06:00:00</td>\n",
       "      <td>https://n.news.naver.com/mnews/article/421/000...</td>\n",
       "    </tr>\n",
       "    <tr>\n",
       "      <th>98</th>\n",
       "      <td>지난해 등록 ABS 발행 51.7조원…전년 대비 21.8% 줄었다</td>\n",
       "      <td>지난해 등록 ABS(자산유동화증권) 발행이 한국주택금융공사 MBS(주택저당증권) 발...</td>\n",
       "      <td>머니투데이</td>\n",
       "      <td>2025-01-31 06:00:00</td>\n",
       "      <td>https://n.news.naver.com/mnews/article/008/000...</td>\n",
       "    </tr>\n",
       "    <tr>\n",
       "      <th>99</th>\n",
       "      <td>지난해 ABS 22% 축소…주금공 주택저당증권 발행↓</td>\n",
       "      <td>지난해 등록 자산유동화증권(ABS) 발행이 22% 가까이 줄어든 것으로 나타났다. ...</td>\n",
       "      <td>뉴시스</td>\n",
       "      <td>2025-01-31 06:00:00</td>\n",
       "      <td>https://n.news.naver.com/mnews/article/003/001...</td>\n",
       "    </tr>\n",
       "    <tr>\n",
       "      <th>100</th>\n",
       "      <td>뉴욕증시, 빅테크 실적·FOMC 소화·경제지표 주시…혼조 출발</td>\n",
       "      <td>김 현 연합인포맥스 통신원 = 뉴욕증시는 빅테크 실적과 연방준비제도(Fed·연준)의...</td>\n",
       "      <td>연합뉴스</td>\n",
       "      <td>2025-01-31 01:01:33</td>\n",
       "      <td>https://n.news.naver.com/mnews/article/001/001...</td>\n",
       "    </tr>\n",
       "    <tr>\n",
       "      <th>101</th>\n",
       "      <td>美 ‘AI 패권’ 불확실성 확대… 국내 증시 영향은?</td>\n",
       "      <td>나흘간 휴장한 국내 증시에 중국 인공지능(AI) 스타트업인 딥시크 충격이 시차를 두...</td>\n",
       "      <td>국민일보</td>\n",
       "      <td>2025-01-31 00:03:18</td>\n",
       "      <td>https://n.news.naver.com/mnews/article/005/000...</td>\n",
       "    </tr>\n",
       "  </tbody>\n",
       "</table>\n",
       "<p>102 rows × 5 columns</p>\n",
       "</div>"
      ],
      "text/plain": [
       "                                            subject  \\\n",
       "0    저가매수 타이밍? '딥시크 타격' HD현대일렉트릭 순매수 1위[주식 초고수는 지금]   \n",
       "1                      딥시크발 ‘딥쇼크’… SK하이닉스 장중 11% 급락   \n",
       "2       SEC, 비트코인·이더리움 혼합 ETF 승인…알트코인 ETF 출시 가속화 기대   \n",
       "3         이거 했더니 솔라나 일년 수익률 212%...단순 보유보다 20% 더 이득   \n",
       "4                      딥시크 수혜?…애플, 아이폰 부진에도 주가 상승반전   \n",
       "..                                              ...   \n",
       "97            지난해 등록 ABS 발행액 21.8% 감소…주금공 MBS 절반 급감   \n",
       "98             지난해 등록 ABS 발행 51.7조원…전년 대비 21.8% 줄었다   \n",
       "99                    지난해 ABS 22% 축소…주금공 주택저당증권 발행↓   \n",
       "100              뉴욕증시, 빅테크 실적·FOMC 소화·경제지표 주시…혼조 출발   \n",
       "101                   美 ‘AI 패권’ 불확실성 확대… 국내 증시 영향은?   \n",
       "\n",
       "                                               summary  press  \\\n",
       "0    미래에셋증권(006800)에서 거래하는 고수익 투자자들이 24일 오전 가장 많이 순...   서울경제   \n",
       "1    코스피 전체는 0.1% 하락 출발 한미반도체 6%·삼성전자 2%↓ 인프라 관련 투자...   문화일보   \n",
       "2    비트와이즈, 도지코인 ETF도 신청 미국에서 가상자산을 담고 있는 상장지수펀드(ET...   매일경제   \n",
       "3    보상 쌓이는 스테이킹하면 추가 수익 업비트 스테이킹 참여 3.8조 넘어 지난해 업비...   매일경제   \n",
       "4    애플의 주가가 실적 발표 후 시간외거래에서 상승 반전했다. 딥쇼크 쇼크로 애플의 뒤...   이데일리   \n",
       "..                                                 ...    ...   \n",
       "97   지난해 한국주택금융공사 주택저당증권(MBS) 발행이 줄면서 등록 자산유동화증권(AB...    뉴스1   \n",
       "98   지난해 등록 ABS(자산유동화증권) 발행이 한국주택금융공사 MBS(주택저당증권) 발...  머니투데이   \n",
       "99   지난해 등록 자산유동화증권(ABS) 발행이 22% 가까이 줄어든 것으로 나타났다. ...    뉴시스   \n",
       "100  김 현 연합인포맥스 통신원 = 뉴욕증시는 빅테크 실적과 연방준비제도(Fed·연준)의...   연합뉴스   \n",
       "101  나흘간 휴장한 국내 증시에 중국 인공지능(AI) 스타트업인 딥시크 충격이 시차를 두...   국민일보   \n",
       "\n",
       "                   wdate                                               link  \n",
       "0    2025-01-31 11:53:10  https://n.news.naver.com/mnews/article/011/000...  \n",
       "1    2025-01-31 11:47:31  https://n.news.naver.com/mnews/article/021/000...  \n",
       "2    2025-01-31 11:45:08  https://n.news.naver.com/mnews/article/009/000...  \n",
       "3    2025-01-31 11:44:15  https://n.news.naver.com/mnews/article/009/000...  \n",
       "4    2025-01-31 11:39:09  https://n.news.naver.com/mnews/article/018/000...  \n",
       "..                   ...                                                ...  \n",
       "97   2025-01-31 06:00:00  https://n.news.naver.com/mnews/article/421/000...  \n",
       "98   2025-01-31 06:00:00  https://n.news.naver.com/mnews/article/008/000...  \n",
       "99   2025-01-31 06:00:00  https://n.news.naver.com/mnews/article/003/001...  \n",
       "100  2025-01-31 01:01:33  https://n.news.naver.com/mnews/article/001/001...  \n",
       "101  2025-01-31 00:03:18  https://n.news.naver.com/mnews/article/005/000...  \n",
       "\n",
       "[102 rows x 5 columns]"
      ]
     },
     "execution_count": 49,
     "metadata": {},
     "output_type": "execute_result"
    }
   ],
   "source": [
    "import pandas as pd\n",
    "df=pd.DataFrame(article_list,columns=['subject', 'summary', 'press', 'wdate', 'link'])\n",
    "df\n",
    "#df.to_csv('네이버증권뉴스.csv', encoding='utf-8', index=False)\n",
    "#df.to_excel('네이버증권뉴스.xlsx', index=False)"
   ]
  },
  {
   "cell_type": "code",
   "execution_count": 27,
   "metadata": {},
   "outputs": [
    {
     "name": "stdout",
     "output_type": "stream",
     "text": [
      "Collecting openpyxl\n",
      "  Downloading openpyxl-3.1.5-py2.py3-none-any.whl.metadata (2.5 kB)\n",
      "Collecting et-xmlfile (from openpyxl)\n",
      "  Downloading et_xmlfile-2.0.0-py3-none-any.whl.metadata (2.7 kB)\n",
      "Downloading openpyxl-3.1.5-py2.py3-none-any.whl (250 kB)\n",
      "Downloading et_xmlfile-2.0.0-py3-none-any.whl (18 kB)\n",
      "Installing collected packages: et-xmlfile, openpyxl\n",
      "Successfully installed et-xmlfile-2.0.0 openpyxl-3.1.5\n"
     ]
    },
    {
     "name": "stderr",
     "output_type": "stream",
     "text": [
      "\n",
      "[notice] A new release of pip is available: 24.3.1 -> 25.0\n",
      "[notice] To update, run: python.exe -m pip install --upgrade pip\n"
     ]
    }
   ],
   "source": [
    "!pip install openpyxl"
   ]
  },
  {
   "cell_type": "code",
   "execution_count": 46,
   "metadata": {},
   "outputs": [],
   "source": [
    "import datetime\n",
    "\n",
    "#날짜 입력 받아오기기\n",
    "date=input(\"검색할날짜(yyyymmdd) : \")\n",
    "if date==\"\": date=datetime.datetime.now().strftime('%Y-%m-%d')\n",
    "else: date=f'{date[:4]}-{date[4:6]}-{date[6:]}'\n",
    "\n",
    "#웹드라이버 생성성\n",
    "from selenium.webdriver import Chrome\n",
    "import time\n",
    "driver=Chrome()\n",
    "\n",
    "\n",
    "#리스트 페이지 초기화화\n",
    "article_list = []\n",
    "page = 1\n",
    "\n",
    "#맨뒤 요소가 있는 동안 반복복\n",
    "while True:\n",
    "    url=\"https://finance.naver.com/news/mainnews.naver\"+date+\"&page\"+str(page)\n",
    "    driver.get(url)\n",
    "\n",
    "    time.sleep(2) # 페이지가 로딩되는 시간 감안하여 delay\n",
    "\n",
    "\n",
    " # 제목 요소 선택\n",
    "    from selenium.webdriver.common.by import By\n",
    "    articles = driver.find_elements(By.CSS_SELECTOR, \".block1\")\n",
    "\n",
    "    for article in articles:\n",
    "        subject=article.find_element(By.CSS_SELECTOR,\".articleSubject\").text #요소객체 article\n",
    "        summary=article.find_element(By.CSS_SELECTOR,\".articleSummary\").text\n",
    "        press=article.find_element(By.CSS_SELECTOR,\".press\").text\n",
    "        wdate=article.find_element(By.CSS_SELECTOR,\".wdate\").text\n",
    "        link=article.find_element(By.CSS_SELECTOR, \".articleSubject>a\").get_attribute(\"href\")  #link는 no text\n",
    "        article_list.append({\"subject\": subject, \"summary\": summary, \"press\": press, \"link\":link})\n",
    "\n",
    "    #반복을 빠져나올 조건\n",
    "    try:\n",
    "        driver.find_elment(By.CSS_SELECTOR,\".pgRR\")\n",
    "        page=1\n",
    "    except:\n",
    "       break\n",
    "\n",
    "import pandas as pd\n",
    "df=pd.DataFrame(article_list,columns=['subject', 'summary', 'press', 'wdate', 'link'])\n",
    "df.to_csv('네이버증권뉴스{date}.csv', encoding='utf-8', index=False)\n",
    "df.to_excel('네이버증권뉴스{date}.xlsx', index=False)"
   ]
  },
  {
   "cell_type": "code",
   "execution_count": 47,
   "metadata": {},
   "outputs": [],
   "source": [
    "#선생님버전\n",
    "import datetime\n",
    "import time\n",
    " \n",
    "# 날짜 입력 받아오기기\n",
    "date = input(\"검색할 날짜(yyyymmdd) : \")\n",
    "if date==\"\": date = datetime.datetime.now().strftime('%Y-%m-%d')\n",
    "else: date = f'{date[:4]}-{date[4:6]}-{date[6:]}'\n",
    " \n",
    "# 웹드라이버 생성\n",
    "from selenium.webdriver import Chrome\n",
    "driver = Chrome()\n",
    " \n",
    "# 리스트, 페이지 초기화화\n",
    "article_list = []\n",
    "page = 1\n",
    " \n",
    "# '맨뒤' 요소가 있는 동안 반복\n",
    "while True:\n",
    "    # 웹페이지 열고 이동하기\n",
    "    url = \"https://finance.naver.com/news/mainnews.naver?date=\"+date+\"&page=\"+str(page)\n",
    "    driver.get(url)\n",
    " \n",
    "    time.sleep(2) # 페이지 로딩\n",
    " \n",
    "    # 요소 선택하기\n",
    "    from selenium.webdriver.common.by import By\n",
    "    articles = driver.find_elements(By.CSS_SELECTOR, \".block1\")\n",
    " \n",
    "    for article in articles:\n",
    "        subject = article.find_element(By.CSS_SELECTOR, \".articleSubject\").text\n",
    "        summary = article.find_element(By.CSS_SELECTOR, \".articleSummary\").text\n",
    "        press = article.find_element(By.CSS_SELECTOR, \".press\").text\n",
    "        wdate = article.find_element(By.CSS_SELECTOR, \".wdate\").text\n",
    "        link = article.find_element(By.CSS_SELECTOR, \".articleSubject>a\").get_attribute(\"href\")\n",
    "        article_list.append([subject, summary, press, wdate, link])\n",
    "   \n",
    "    # 반복을 빠져나올 조건\n",
    "    try:\n",
    "        driver.find_element(By.CSS_SELECTOR, \".pgRR\")\n",
    "        page += 1\n",
    "    except:\n",
    "        break\n",
    " \n",
    "import pandas as pd\n",
    "df = pd.DataFrame(article_list, columns=['subject', 'summary', 'press', 'wdate', 'link'])\n",
    "df.to_csv(f\"네이버증권뉴스_{date}.csv\", index=False)\n",
    "df.to_excel(f\"네이버증권뉴스_{date}.xlsx\", index=False)"
   ]
  },
  {
   "cell_type": "code",
   "execution_count": null,
   "metadata": {},
   "outputs": [],
   "source": [
    "#원하는 페이지 스크랩랩\n",
    "\n",
    "import datetime # datetime 모듈 불러오기\n",
    "import time # time 모듈 불러오기\n",
    "from selenium.webdriver import Chrome # Selenium의 Chrome 웹드라이버를 가져옴\n",
    "from selenium.webdriver.common.by import By # By 클래스 불러오기\n",
    "from selenium.common.exceptions import NoSuchElementException # NoSuchElementException 예외 불러오기\n",
    "\n",
    "def scrap_articles(driver, date, max_pages=7):\n",
    "    article_list = [] # 기사를 저장할 리스트 초기화\n",
    "    page = 1 # 시작 페이지 설정\n",
    "\n",
    "    while page <= max_pages:\n",
    "        url = f'https://finance.naver.com/news/mainnews.naver?date={date}&page={page}' # URL 설정\n",
    "        driver.get(url) # 페이지 이동\n",
    "\n",
    "        time.sleep(2) # 페이지 로드 대기\n",
    "\n",
    "        # 기사 요소 선택\n",
    "        articles = driver.find_elements(By.CSS_SELECTOR, \".block1\")\n",
    "\n",
    "        # 각 기사에 대해 정보 추출\n",
    "        for article in articles:\n",
    "            subject = article.find_element(By.CSS_SELECTOR, '.articleSubject').text # 기사의 제목 추출\n",
    "            summary = article.find_element(By.CSS_SELECTOR, '.articleSummary').text # 기사의 요약 추출\n",
    "            press = article.find_element(By.CSS_SELECTOR, '.press').text # 언론사 추출\n",
    "            wdate = article.find_element(By.CSS_SELECTOR, '.wdate').text # 작성일자 추출\n",
    "            link = article.find_element(By.CSS_SELECTOR, '.articleSubject>a').get_attribute('href') # 링크 추출\n",
    "\n",
    "            # 추출한 정보를 딕셔너리로 저장\n",
    "            data = {\n",
    "                'subject': subject,\n",
    "                'summary': summary,\n",
    "                'press': press,\n",
    "                'wdate': wdate,\n",
    "                'link': link\n",
    "            }\n",
    "            article_list.append(data) # 리스트에 추가\n",
    "\n",
    "        # 만약 [맨뒤] 버튼이 없다면 반복문을 탈출\n",
    "        try:\n",
    "            driver.find_element(By.CSS_SELECTOR, '.pgRR')\n",
    "        except NoSuchElementException:\n",
    "            break\n",
    "\n",
    "        # 다음 페이지로 이동\n",
    "        page += 1\n",
    "\n",
    "    return article_list # 기사 리스트 반환\n",
    "\n",
    "date = input(\"검색할 날짜(yyyymmdd) : \") # 사용자에게 검색할 날짜를 입력받음\n",
    "if date==\"\": date = datetime.datetime.now().strftime('%Y-%m-%d') # 입력된 날짜가 없으면 현재 날짜를 'YYYY-MM-DD' 형식으로 저장\n",
    "else: date = f'{date[:4]}-{date[4:6]}-{date[6:]}' # 입력된 날짜를 'YYYY-MM-DD' 형식으로 변환하여 저장\n",
    "\n",
    "# Chrome 웹드라이버 객체 생성\n",
    "driver = Chrome()\n",
    "\n",
    "# 기사 스크랩 함수 호출\n",
    "articles = scrap_articles(driver, date, max_pages=7)\n",
    "\n",
    "# 결과 출력\n",
    "for article in articles:\n",
    "    print(article)\n",
    "\n",
    "# 결과를 CSV와 Excel 파일로 저장\n",
    "save_to_files(articles, '네이버증권뉴스.csv', '네이버증권뉴스.xlsx')\n",
    "\n",
    "# 웹드라이버 종료\n",
    "driver.quit()"
   ]
  }
 ],
 "metadata": {
  "kernelspec": {
   "display_name": "Python 3",
   "language": "python",
   "name": "python3"
  },
  "language_info": {
   "codemirror_mode": {
    "name": "ipython",
    "version": 3
   },
   "file_extension": ".py",
   "mimetype": "text/x-python",
   "name": "python",
   "nbconvert_exporter": "python",
   "pygments_lexer": "ipython3",
   "version": "3.13.1"
  }
 },
 "nbformat": 4,
 "nbformat_minor": 2
}
