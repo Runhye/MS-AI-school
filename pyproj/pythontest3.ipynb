{
 "cells": [
  {
   "cell_type": "markdown",
   "metadata": {},
   "source": [
    "## 2024-12-23"
   ]
  },
  {
   "cell_type": "code",
   "execution_count": null,
   "metadata": {},
   "outputs": [],
   "source": [
    "# 구구단 출력\n",
    "\n",
    "2 4 6 8 10 12 14 16 18"
   ]
  },
  {
   "cell_type": "code",
   "execution_count": 3,
   "metadata": {},
   "outputs": [
    {
     "name": "stdout",
     "output_type": "stream",
     "text": [
      "2 4 6 8 10 12 14 16 18 "
     ]
    }
   ],
   "source": [
    "for su in range(1,10):\n",
    "    print(2*su,end=\" \")"
   ]
  },
  {
   "cell_type": "code",
   "execution_count": 6,
   "metadata": {},
   "outputs": [
    {
     "name": "stdout",
     "output_type": "stream",
     "text": [
      "2 4 6 8 10 12 14 16 18 \n",
      "3 6 9 12 15 18 21 24 27 \n",
      "4 8 12 16 20 24 28 32 36 \n",
      "5 10 15 20 25 30 35 40 45 \n",
      "6 12 18 24 30 36 42 48 54 \n",
      "7 14 21 28 35 42 49 56 63 \n",
      "8 16 24 32 40 48 56 64 72 \n",
      "9 18 27 36 45 54 63 72 81 \n"
     ]
    }
   ],
   "source": [
    "# 구구단 출력\n",
    "for dan in range(2,10):\n",
    "    for su in range(1,10):\n",
    "        print(dan*su,end=\" \")\n",
    "    print()"
   ]
  },
  {
   "cell_type": "code",
   "execution_count": 8,
   "metadata": {},
   "outputs": [
    {
     "name": "stdout",
     "output_type": "stream",
     "text": [
      "커피를 줍니다.\n",
      "돈을 다시 돌려주고 커피를 주지 않습니다.\n",
      "남은 커피의 양은 2개 입니다.\n",
      "돈을 다시 돌려주고 커피를 주지 않습니다.\n",
      "남은 커피의 양은 2개 입니다.\n",
      "거스름돈 400를 주고 커피를 줍니다.\n",
      "거스름돈 700를 주고 커피를 줍니다.\n",
      "커피가 다 떨어졌습니다. 판매를 중지 합니다.\n"
     ]
    }
   ],
   "source": [
    "coffee=3\n",
    "while True:\n",
    "    money=int(input(\"돈을 넣어 주세요: \"))\n",
    "    if money==300:\n",
    "        print(\"커피를 줍니다.\")\n",
    "        coffee=coffee-1\n",
    "    elif money>300:\n",
    "        print(\"거스름돈 %d를 주고 커피를 줍니다.\"%(money-300))\n",
    "        coffee=coffee-1\n",
    "    else:\n",
    "        print(\"돈을 다시 돌려주고 커피를 주지 않습니다.\")\n",
    "        print(\"남은 커피의 양은 %d개 입니다.\"%coffee)\n",
    "    if coffee==0:\n",
    "        print(\"커피가 다 떨어졌습니다. 판매를 중지 합니다.\")\n",
    "        break"
   ]
  },
  {
   "cell_type": "markdown",
   "metadata": {},
   "source": [
    "#### 딕셔너리 dict"
   ]
  },
  {
   "cell_type": "code",
   "execution_count": 25,
   "metadata": {},
   "outputs": [],
   "source": [
    "menu={'김밥':2000,'라면':3000,'돈까스':5000}"
   ]
  },
  {
   "cell_type": "code",
   "execution_count": 11,
   "metadata": {},
   "outputs": [
    {
     "name": "stdout",
     "output_type": "stream",
     "text": [
      "<class 'dict'>\n"
     ]
    }
   ],
   "source": [
    "print(type(menu))"
   ]
  },
  {
   "cell_type": "code",
   "execution_count": 12,
   "metadata": {},
   "outputs": [
    {
     "data": {
      "text/plain": [
       "2000"
      ]
     },
     "execution_count": 12,
     "metadata": {},
     "output_type": "execute_result"
    }
   ],
   "source": [
    "menu['김밥']"
   ]
  },
  {
   "cell_type": "code",
   "execution_count": 13,
   "metadata": {},
   "outputs": [
    {
     "data": {
      "text/plain": [
       "{'김밥': 2500, '라면': 3000, '돈까스': 5000}"
      ]
     },
     "execution_count": 13,
     "metadata": {},
     "output_type": "execute_result"
    }
   ],
   "source": [
    "menu['김밥']=2500\n",
    "menu"
   ]
  },
  {
   "cell_type": "code",
   "execution_count": 36,
   "metadata": {},
   "outputs": [
    {
     "data": {
      "text/plain": [
       "{'라면': 3000, '돈까스': 5000, '떡볶이': 3000}"
      ]
     },
     "execution_count": 36,
     "metadata": {},
     "output_type": "execute_result"
    }
   ],
   "source": [
    "menu['떡볶이']=3000\n",
    "menu"
   ]
  },
  {
   "cell_type": "code",
   "execution_count": 15,
   "metadata": {},
   "outputs": [
    {
     "ename": "KeyError",
     "evalue": "'로제떡볶이'",
     "output_type": "error",
     "traceback": [
      "\u001b[1;31m---------------------------------------------------------------------------\u001b[0m",
      "\u001b[1;31mKeyError\u001b[0m                                  Traceback (most recent call last)",
      "Cell \u001b[1;32mIn[15], line 1\u001b[0m\n\u001b[1;32m----> 1\u001b[0m \u001b[43mmenu\u001b[49m\u001b[43m[\u001b[49m\u001b[38;5;124;43m'\u001b[39;49m\u001b[38;5;124;43m로제떡볶이\u001b[39;49m\u001b[38;5;124;43m'\u001b[39;49m\u001b[43m]\u001b[49m\u001b[38;5;241m+\u001b[39m\u001b[38;5;241m=\u001b[39m\u001b[38;5;241m3000\u001b[39m\n\u001b[0;32m      2\u001b[0m menu\n",
      "\u001b[1;31mKeyError\u001b[0m: '로제떡볶이'"
     ]
    }
   ],
   "source": [
    "menu['로제떡볶이']+=3000\n",
    "menu"
   ]
  },
  {
   "cell_type": "code",
   "execution_count": 29,
   "metadata": {},
   "outputs": [
    {
     "data": {
      "text/plain": [
       "['김밥', '라면', '돈까스']"
      ]
     },
     "execution_count": 29,
     "metadata": {},
     "output_type": "execute_result"
    }
   ],
   "source": [
    "list(menu.keys())"
   ]
  },
  {
   "cell_type": "code",
   "execution_count": 32,
   "metadata": {},
   "outputs": [
    {
     "data": {
      "text/plain": [
       "dict_values([2000, 3000, 5000])"
      ]
     },
     "execution_count": 32,
     "metadata": {},
     "output_type": "execute_result"
    }
   ],
   "source": [
    "menu.values()"
   ]
  },
  {
   "cell_type": "code",
   "execution_count": 33,
   "metadata": {},
   "outputs": [
    {
     "data": {
      "text/plain": [
       "[('김밥', 2000), ('라면', 3000), ('돈까스', 5000)]"
      ]
     },
     "execution_count": 33,
     "metadata": {},
     "output_type": "execute_result"
    }
   ],
   "source": [
    "list(menu.items())"
   ]
  },
  {
   "cell_type": "code",
   "execution_count": 23,
   "metadata": {},
   "outputs": [
    {
     "name": "stdout",
     "output_type": "stream",
     "text": [
      "{'김밥': 2000, '라면': 3000, '돈까스': 5000}\n",
      "{'김밥': 2000, '라면': 3000, '돈까스': 5000}\n",
      "{'김밥': 2000, '라면': 3000, '돈까스': 5000}\n"
     ]
    }
   ],
   "source": [
    "for menu_itmes in menu.keys():\n",
    "    print(menu)"
   ]
  },
  {
   "cell_type": "code",
   "execution_count": 22,
   "metadata": {},
   "outputs": [
    {
     "name": "stdout",
     "output_type": "stream",
     "text": [
      "2000\n",
      "3000\n",
      "5000\n"
     ]
    }
   ],
   "source": [
    "for price in menu.values():\n",
    "    print(price)"
   ]
  },
  {
   "cell_type": "code",
   "execution_count": 28,
   "metadata": {},
   "outputs": [
    {
     "name": "stdout",
     "output_type": "stream",
     "text": [
      "('김밥', 2000)\n",
      "('라면', 3000)\n",
      "('돈까스', 5000)\n"
     ]
    }
   ],
   "source": [
    "for price in menu.items():\n",
    "    print(price)"
   ]
  },
  {
   "cell_type": "code",
   "execution_count": 34,
   "metadata": {},
   "outputs": [
    {
     "data": {
      "text/plain": [
       "2000"
      ]
     },
     "execution_count": 34,
     "metadata": {},
     "output_type": "execute_result"
    }
   ],
   "source": [
    "menu.pop('김밥')"
   ]
  },
  {
   "cell_type": "code",
   "execution_count": 37,
   "metadata": {},
   "outputs": [
    {
     "data": {
      "text/plain": [
       "{'라면': 3000, '돈까스': 5000, '떡볶이': 3000}"
      ]
     },
     "execution_count": 37,
     "metadata": {},
     "output_type": "execute_result"
    }
   ],
   "source": [
    "menu"
   ]
  },
  {
   "cell_type": "code",
   "execution_count": 38,
   "metadata": {},
   "outputs": [
    {
     "data": {
      "text/plain": [
       "('떡볶이', 3000)"
      ]
     },
     "execution_count": 38,
     "metadata": {},
     "output_type": "execute_result"
    }
   ],
   "source": [
    "menu.popitem()"
   ]
  },
  {
   "cell_type": "code",
   "execution_count": 39,
   "metadata": {},
   "outputs": [],
   "source": [
    "addrs={'name':2000,'phone':3000,'addr':5000}"
   ]
  },
  {
   "cell_type": "code",
   "execution_count": null,
   "metadata": {},
   "outputs": [],
   "source": [
    "addrs_list=[{'name':2000,'phone':3000,'addr':5000},\n",
    "            {'name':2000,'phone':3000,'addr':5000},\n",
    "            {'name':2000,'phone':3000,'addr':5000}]"
   ]
  },
  {
   "cell_type": "code",
   "execution_count": 41,
   "metadata": {},
   "outputs": [
    {
     "name": "stdout",
     "output_type": "stream",
     "text": [
      "라면 3000\n",
      "돈까스 5000\n"
     ]
    }
   ],
   "source": [
    "for key, value in  menu.items():\n",
    "    print(key,value)"
   ]
  },
  {
   "cell_type": "code",
   "execution_count": 42,
   "metadata": {},
   "outputs": [
    {
     "ename": "KeyError",
     "evalue": "'김밥'",
     "output_type": "error",
     "traceback": [
      "\u001b[1;31m---------------------------------------------------------------------------\u001b[0m",
      "\u001b[1;31mKeyError\u001b[0m                                  Traceback (most recent call last)",
      "Cell \u001b[1;32mIn[42], line 1\u001b[0m\n\u001b[1;32m----> 1\u001b[0m \u001b[43mmenu\u001b[49m\u001b[43m[\u001b[49m\u001b[38;5;124;43m'\u001b[39;49m\u001b[38;5;124;43m김밥\u001b[39;49m\u001b[38;5;124;43m'\u001b[39;49m\u001b[43m]\u001b[49m\n",
      "\u001b[1;31mKeyError\u001b[0m: '김밥'"
     ]
    }
   ],
   "source": [
    "menu['김밥']"
   ]
  },
  {
   "cell_type": "code",
   "execution_count": 43,
   "metadata": {},
   "outputs": [],
   "source": [
    "menu.get('김밥')"
   ]
  },
  {
   "cell_type": "code",
   "execution_count": 44,
   "metadata": {},
   "outputs": [
    {
     "name": "stdout",
     "output_type": "stream",
     "text": [
      "None\n"
     ]
    }
   ],
   "source": [
    "print(menu.get('김밥'))"
   ]
  },
  {
   "cell_type": "code",
   "execution_count": null,
   "metadata": {},
   "outputs": [],
   "source": [
    "a_list=[3,'hello',[4,5,6,],{'a':1,'b':2}]"
   ]
  },
  {
   "cell_type": "code",
   "execution_count": null,
   "metadata": {},
   "outputs": [],
   "source": [
    "addrs_list=[{'name':'kim','phone':010-1234-5678,'addr':'경기도'},\n",
    "            {'name':'kim','phone':010-1234-5678,'addr':'경기도'},\n",
    "            {'name':'kim','phone':010-1234-5678,'addr':'경기도'}]\n",
    "\n",
    "{'name':'kim','phone':010-1234-5678,'addr':'경기도'}"
   ]
  },
  {
   "cell_type": "markdown",
   "metadata": {},
   "source": [
    "#### todolist와 전화번호 프로그램 도전"
   ]
  },
  {
   "cell_type": "code",
   "execution_count": 45,
   "metadata": {},
   "outputs": [
    {
     "name": "stdout",
     "output_type": "stream",
     "text": [
      "\n",
      "==오늘의 할 일===\n",
      "1.추가\n",
      "2. 삭제\n",
      "0.종료\n",
      "'밥먹기'가 추가되었습니다.\n",
      "\n",
      "==오늘의 할 일===\n",
      "1.추가\n",
      "2. 삭제\n",
      "0.종료\n",
      "\n",
      "현재 할 일 목록:\n",
      "-밥먹기\n",
      "'밥먹기'가 삭제되었습니다.\n",
      "\n",
      "==오늘의 할 일===\n",
      "1.추가\n",
      "2. 삭제\n",
      "0.종료\n",
      "프로그램을 종료합니다.\n"
     ]
    }
   ],
   "source": [
    "# todolist\n",
    "todolist=[]\n",
    "while True:\n",
    "    print(\"\\n==오늘의 할 일===\")\n",
    "    print(\"1.추가\")\n",
    "    print(\"2. 삭제\")\n",
    "    print(\"0.종료\")\n",
    "    menu=input(\"메뉴선택: \")\n",
    "\n",
    "    if menu==\"0\":\n",
    "        print(\"프로그램을 종료합니다.\")\n",
    "        break\n",
    "\n",
    "    elif menu==\"1\":\n",
    "        task=input(\"추가 할 일을 입력: \")\n",
    "        todolist.append(task)\n",
    "        print(f\"'{task}'가 추가되었습니다.\")\n",
    "\n",
    "    elif menu==\"2\":\n",
    "        if not todolist:\n",
    "            print(\"삭제할 일이 없습니다.\")\n",
    "        else:\n",
    "            print(\"\\n현재 할 일 목록:\")\n",
    "            for task in todolist:\n",
    "                print(f\"-{task}\")\n",
    "            deletetask=input(\"삭제할 항목을 입력하세요: \")\n",
    "\n",
    "            if deletetask in todolist:\n",
    "                todolist.remove(deletetask)\n",
    "                print(f\"'{deletetask}'가 삭제되었습니다.\")\n",
    "            else:\n",
    "                print(\"목록에 없는 항목입니다.\")\n",
    "    else:\n",
    "        print(\"메뉴 선택 오류입니다. 다시 선택하세요.\")\n",
    "        "
   ]
  },
  {
   "cell_type": "code",
   "execution_count": 46,
   "metadata": {},
   "outputs": [
    {
     "name": "stdout",
     "output_type": "stream",
     "text": [
      "\n",
      "===전화번호 검색 프로그램===\n",
      "1.추가\n",
      "2. 검색\n",
      "0.종료\n",
      "루네의 전화번호가 추가되었습니다.\n",
      "\n",
      "===전화번호 검색 프로그램===\n",
      "1.추가\n",
      "2. 검색\n",
      "0.종료\n",
      "유리의 전화번호가 추가되었습니다.\n",
      "\n",
      "===전화번호 검색 프로그램===\n",
      "1.추가\n",
      "2. 검색\n",
      "0.종료\n",
      "프로그램을 종료합니다.\n"
     ]
    }
   ],
   "source": [
    "phone_book={}\n",
    "\n",
    "while True:\n",
    "    print(\"\\n===전화번호 검색 프로그램===\")\n",
    "    print(\"1.추가\")\n",
    "    print(\"2. 검색\")\n",
    "    print(\"0.종료\")\n",
    "    menu=input(\"메뉴선택: \")\n",
    "\n",
    "    if menu==\"0\":\n",
    "        print(\"프로그램을 종료합니다.\")\n",
    "        break\n",
    "    elif menu==\"1\":\n",
    "        name=input(\"친구 이름 입력: \")\n",
    "        phone=input(\"친구 전화번호 입력: \")\n",
    "        phone_book[name]=phone\n",
    "        print(f\"{name}의 전화번호가 추가되었습니다.\")\n",
    "\n",
    "    elif menu==\"2\":\n",
    "        name=input(\"검색할 친구 이름 입력: \")\n",
    "        if name in phone_book:\n",
    "            print(f\"{name}의 전화번호:{phone_book[name]}\")\n",
    "    else:\n",
    "        print(\"메뉴선택오류.다시선택.\")"
   ]
  },
  {
   "cell_type": "code",
   "execution_count": 47,
   "metadata": {},
   "outputs": [
    {
     "name": "stdout",
     "output_type": "stream",
     "text": [
      "메뉴선택(1. 할일 추가, 2. 한일 삭제, 0. 종료)? :\n",
      "1.밥먹자\n",
      "******************************\n",
      "메뉴선택(1. 할일 추가, 2. 한일 삭제, 0. 종료)? :\n",
      "******************************\n",
      "메뉴선택(1. 할일 추가, 2. 한일 삭제, 0. 종료)? :\n",
      "프로그램을 종료합니다.\n"
     ]
    }
   ],
   "source": [
    "todolist = []\n",
    "\n",
    "while True:\n",
    "    print('메뉴선택(1. 할일 추가, 2. 한일 삭제, 0. 종료)? :')\n",
    "    menu = int(input('메뉴선택(1. 할일 추가, 2. 한일 삭제, 0. 종료)? :'))\n",
    "\n",
    "    if menu == 1:\n",
    "        todolist.append(input('*할일 내용 입력 >> '))\n",
    "    elif menu == 2:\n",
    "        todolist.remove(input('*완료한한 내용 입력 >> '))\n",
    "    elif menu == 0:\n",
    "        print('프로그램을 종료합니다.')\n",
    "        break\n",
    "    else:\n",
    "        print('잘못된 번호를 입력했습니다.')\n",
    "        continue\n",
    "\n",
    "    # 투두리스트 내용 보여주기\n",
    "    for i in range(len(todolist)):\n",
    "        print(f'{i+1}.{todolist[i]}')\n",
    "    print('*' * 30)"
   ]
  },
  {
   "cell_type": "code",
   "execution_count": 54,
   "metadata": {},
   "outputs": [
    {
     "name": "stdout",
     "output_type": "stream",
     "text": [
      "메뉴선택(1.추가,2.검색,0.종료)? : 2\n",
      "내친구들 ['박지민', '전정국', '정호석', '김석진', '민윤기', '김남준']\n",
      "010-1111-1111\n",
      "메뉴선택(1.추가,2.검색,0.종료)? : 2\n",
      "내친구들 ['박지민', '전정국', '정호석', '김석진', '민윤기', '김남준']\n"
     ]
    },
    {
     "ename": "KeyError",
     "evalue": "'0'",
     "output_type": "error",
     "traceback": [
      "\u001b[1;31m---------------------------------------------------------------------------\u001b[0m",
      "\u001b[1;31mKeyError\u001b[0m                                  Traceback (most recent call last)",
      "Cell \u001b[1;32mIn[54], line 24\u001b[0m\n\u001b[0;32m     22\u001b[0m     \u001b[38;5;28mprint\u001b[39m(\u001b[38;5;124m'\u001b[39m\u001b[38;5;124m내친구들\u001b[39m\u001b[38;5;124m'\u001b[39m,\u001b[38;5;28mlist\u001b[39m(addr\u001b[38;5;241m.\u001b[39mkeys()))\n\u001b[0;32m     23\u001b[0m     name\u001b[38;5;241m=\u001b[39m\u001b[38;5;28minput\u001b[39m(\u001b[38;5;124m'\u001b[39m\u001b[38;5;124m검색할 친구 이름 입력>>> \u001b[39m\u001b[38;5;124m'\u001b[39m)\n\u001b[1;32m---> 24\u001b[0m     \u001b[38;5;28mprint\u001b[39m(\u001b[43maddr\u001b[49m\u001b[43m[\u001b[49m\u001b[43mname\u001b[49m\u001b[43m]\u001b[49m)\n\u001b[0;32m     25\u001b[0m     \u001b[38;5;66;03m# if (addr.get(name)):\u001b[39;00m\n\u001b[0;32m     26\u001b[0m         \u001b[38;5;66;03m# print('그런 이름 없음')\u001b[39;00m\n\u001b[0;32m     27\u001b[0m     \u001b[38;5;66;03m# else:\u001b[39;00m\n\u001b[0;32m     28\u001b[0m         \u001b[38;5;66;03m# print(addr.get(name))\u001b[39;00m\n\u001b[0;32m     30\u001b[0m \u001b[38;5;28;01melif\u001b[39;00m menu\u001b[38;5;241m==\u001b[39m\u001b[38;5;241m0\u001b[39m:\n",
      "\u001b[1;31mKeyError\u001b[0m: '0'"
     ]
    }
   ],
   "source": [
    "addr= {\n",
    "    '박지민':'010-1111-1111',\n",
    "    '전정국':'010-2222-2222',\n",
    "    '정호석':'010-3333-3333',\n",
    "    '김석진':'010-4444-4444',\n",
    "    '민윤기':'010-5555-5555',\n",
    "    '김남준':'010-6666-6666',\n",
    "}\n",
    "\n",
    "while True:\n",
    "    print('메뉴선택(1.추가,2.검색,0.종료)? :',end=\" \")\n",
    "    menu=int(input('메뉴선택(1.추가,2.검색,0.종료)? :'))\n",
    "    print(menu)\n",
    "\n",
    "    if menu==1:\n",
    "        addr_key=input('친구 이름 입력>> ')\n",
    "        addr_value=input('전화번호 입력>> ')\n",
    "        addr[addr_key]=addr_value #새로운 요소 삽입\n",
    "\n",
    "    elif menu==2:\n",
    "        #어떤 친구들이 있찌?\n",
    "        print('내친구들',list(addr.keys()))\n",
    "        name=input('검색할 친구 이름 입력>>> ')\n",
    "        print(addr[name])\n",
    "        # if (addr.get(name)):\n",
    "            # print('그런 이름 없음')\n",
    "        # else:\n",
    "            # print(addr.get(name))\n",
    "\n",
    "    elif menu==0:\n",
    "        print('프로그램을 종료합니다.')\n",
    "        break\n",
    "    else:\n",
    "        print('잘못된 번호를 입력했습니다.')\n",
    "        continue"
   ]
  },
  {
   "cell_type": "code",
   "execution_count": 50,
   "metadata": {},
   "outputs": [
    {
     "name": "stdout",
     "output_type": "stream",
     "text": [
      "메뉴선택(1. 추가, 2. 검색, 0. 종료)? : 2\n",
      "내 친구들 ['박지민', '전정국', '정호석', '김석진', '김남준']\n",
      "010-1111-1111\n",
      "메뉴선택(1. 추가, 2. 검색, 0. 종료)? : 0\n",
      "프로그램을 종료합니다.\n"
     ]
    }
   ],
   "source": [
    "addr = {\n",
    "    '박지민': '010-1111-1111', \n",
    "    '전정국': '010-2222-2222', \n",
    "    '정호석': '010-3333-3333', \n",
    "    '김석진': '010-4444-4444', \n",
    "    '김남준': '010-6666-6666', \n",
    "}\n",
    "\n",
    "while True:\n",
    "    print('메뉴선택(1. 추가, 2. 검색, 0. 종료)? :', end=\" \")\n",
    "    menu = int(input('메뉴선택(1. 추가, 2. 검색, 0. 종료)? :'))\n",
    "    print(menu)\n",
    "\n",
    "    if menu == 1: # 추가\n",
    "        addr_key = input('친구 이름 입력>> ')\n",
    "        addr_value = input('전화번호 입력>> ')\n",
    "        addr[addr_key] = addr_value # 새로운 요소 삽입\n",
    "    elif menu == 2: # 검색\n",
    "        # 어떤친구이름이 있는지보여주기\n",
    "        print('내 친구들', list(addr.keys()))\n",
    "        name = input('검색할 친구 이름 입력>> ')\n",
    "        print(addr[name]) \n",
    "        # if addr.get(name):\n",
    "        #     print('그런 이름 없음')\n",
    "        # else:\n",
    "        #     print(addr.get(name))     \n",
    "    elif menu == 0:\n",
    "        print('프로그램을 종료합니다.')\n",
    "        break\n",
    "    else:\n",
    "        print('잘못된 번호를 입력했습니다.')\n",
    "        continue"
   ]
  },
  {
   "cell_type": "markdown",
   "metadata": {},
   "source": [
    "#### 튜플과 in"
   ]
  },
  {
   "cell_type": "code",
   "execution_count": 55,
   "metadata": {},
   "outputs": [],
   "source": [
    "t5 = ('a',1,('ab','cd'))"
   ]
  },
  {
   "cell_type": "code",
   "execution_count": 56,
   "metadata": {},
   "outputs": [
    {
     "data": {
      "text/plain": [
       "tuple"
      ]
     },
     "execution_count": 56,
     "metadata": {},
     "output_type": "execute_result"
    }
   ],
   "source": [
    "type(t5)"
   ]
  },
  {
   "cell_type": "code",
   "execution_count": 57,
   "metadata": {},
   "outputs": [
    {
     "data": {
      "text/plain": [
       "(1, 2, 3, 1, 2)"
      ]
     },
     "execution_count": 57,
     "metadata": {},
     "output_type": "execute_result"
    }
   ],
   "source": [
    "(1,2,3)+(1,2)"
   ]
  },
  {
   "cell_type": "code",
   "execution_count": 69,
   "metadata": {},
   "outputs": [
    {
     "name": "stdout",
     "output_type": "stream",
     "text": [
      "정답입니다.\n"
     ]
    }
   ],
   "source": [
    "# in 사용하기, 딕셔너리도 똑같음.\n",
    "fruit=[\"사과\",\"포도\",\"홍시\"]\n",
    "\n",
    "user=input('과일을 입력하세요')\n",
    "if user in fruit:\n",
    "    print('정답입니다.')\n",
    "else:\n",
    "    print('오답입니다.')"
   ]
  },
  {
   "cell_type": "code",
   "execution_count": null,
   "metadata": {},
   "outputs": [
    {
     "name": "stdout",
     "output_type": "stream",
     "text": [
      "있는 과일\n",
      "없어\n",
      "없어\n"
     ]
    }
   ],
   "source": [
    "# fruit=[\"사과\",\"포도\",\"홍시\"]\n",
    "\n",
    "# user=input('과일을 입력하세요')\n",
    "\n",
    "# for i in fruit:\n",
    "#     if i==user:\n",
    "#         print('있는 과일')\n",
    "#         break\n",
    "#     else:\n",
    "#         print('없어')\n"
   ]
  },
  {
   "cell_type": "markdown",
   "metadata": {},
   "source": [
    "#### 내장함수"
   ]
  },
  {
   "cell_type": "code",
   "execution_count": 73,
   "metadata": {},
   "outputs": [
    {
     "data": {
      "text/plain": [
       "['ArithmeticError',\n",
       " 'AssertionError',\n",
       " 'AttributeError',\n",
       " 'BaseException',\n",
       " 'BaseExceptionGroup',\n",
       " 'BlockingIOError',\n",
       " 'BrokenPipeError',\n",
       " 'BufferError',\n",
       " 'BytesWarning',\n",
       " 'ChildProcessError',\n",
       " 'ConnectionAbortedError',\n",
       " 'ConnectionError',\n",
       " 'ConnectionRefusedError',\n",
       " 'ConnectionResetError',\n",
       " 'DeprecationWarning',\n",
       " 'EOFError',\n",
       " 'Ellipsis',\n",
       " 'EncodingWarning',\n",
       " 'EnvironmentError',\n",
       " 'Exception',\n",
       " 'ExceptionGroup',\n",
       " 'False',\n",
       " 'FileExistsError',\n",
       " 'FileNotFoundError',\n",
       " 'FloatingPointError',\n",
       " 'FutureWarning',\n",
       " 'GeneratorExit',\n",
       " 'IOError',\n",
       " 'ImportError',\n",
       " 'ImportWarning',\n",
       " 'IndentationError',\n",
       " 'IndexError',\n",
       " 'InterruptedError',\n",
       " 'IsADirectoryError',\n",
       " 'KeyError',\n",
       " 'KeyboardInterrupt',\n",
       " 'LookupError',\n",
       " 'MemoryError',\n",
       " 'ModuleNotFoundError',\n",
       " 'NameError',\n",
       " 'None',\n",
       " 'NotADirectoryError',\n",
       " 'NotImplemented',\n",
       " 'NotImplementedError',\n",
       " 'OSError',\n",
       " 'OverflowError',\n",
       " 'PendingDeprecationWarning',\n",
       " 'PermissionError',\n",
       " 'ProcessLookupError',\n",
       " 'PythonFinalizationError',\n",
       " 'RecursionError',\n",
       " 'ReferenceError',\n",
       " 'ResourceWarning',\n",
       " 'RuntimeError',\n",
       " 'RuntimeWarning',\n",
       " 'StopAsyncIteration',\n",
       " 'StopIteration',\n",
       " 'SyntaxError',\n",
       " 'SyntaxWarning',\n",
       " 'SystemError',\n",
       " 'SystemExit',\n",
       " 'TabError',\n",
       " 'TimeoutError',\n",
       " 'True',\n",
       " 'TypeError',\n",
       " 'UnboundLocalError',\n",
       " 'UnicodeDecodeError',\n",
       " 'UnicodeEncodeError',\n",
       " 'UnicodeError',\n",
       " 'UnicodeTranslateError',\n",
       " 'UnicodeWarning',\n",
       " 'UserWarning',\n",
       " 'ValueError',\n",
       " 'Warning',\n",
       " 'WindowsError',\n",
       " 'ZeroDivisionError',\n",
       " '_IncompleteInputError',\n",
       " '__IPYTHON__',\n",
       " '__build_class__',\n",
       " '__debug__',\n",
       " '__doc__',\n",
       " '__import__',\n",
       " '__loader__',\n",
       " '__name__',\n",
       " '__package__',\n",
       " '__spec__',\n",
       " 'abs',\n",
       " 'aiter',\n",
       " 'all',\n",
       " 'anext',\n",
       " 'any',\n",
       " 'ascii',\n",
       " 'bin',\n",
       " 'bool',\n",
       " 'breakpoint',\n",
       " 'bytearray',\n",
       " 'bytes',\n",
       " 'callable',\n",
       " 'chr',\n",
       " 'classmethod',\n",
       " 'compile',\n",
       " 'complex',\n",
       " 'copyright',\n",
       " 'credits',\n",
       " 'delattr',\n",
       " 'dict',\n",
       " 'dir',\n",
       " 'display',\n",
       " 'divmod',\n",
       " 'enumerate',\n",
       " 'eval',\n",
       " 'exec',\n",
       " 'execfile',\n",
       " 'filter',\n",
       " 'float',\n",
       " 'format',\n",
       " 'frozenset',\n",
       " 'get_ipython',\n",
       " 'getattr',\n",
       " 'globals',\n",
       " 'hasattr',\n",
       " 'hash',\n",
       " 'help',\n",
       " 'hex',\n",
       " 'id',\n",
       " 'input',\n",
       " 'int',\n",
       " 'isinstance',\n",
       " 'issubclass',\n",
       " 'iter',\n",
       " 'len',\n",
       " 'license',\n",
       " 'list',\n",
       " 'locals',\n",
       " 'map',\n",
       " 'max',\n",
       " 'memoryview',\n",
       " 'min',\n",
       " 'next',\n",
       " 'object',\n",
       " 'oct',\n",
       " 'open',\n",
       " 'ord',\n",
       " 'pow',\n",
       " 'print',\n",
       " 'property',\n",
       " 'range',\n",
       " 'repr',\n",
       " 'reversed',\n",
       " 'round',\n",
       " 'runfile',\n",
       " 'set',\n",
       " 'setattr',\n",
       " 'slice',\n",
       " 'sorted',\n",
       " 'staticmethod',\n",
       " 'str',\n",
       " 'sum',\n",
       " 'super',\n",
       " 'tuple',\n",
       " 'type',\n",
       " 'vars',\n",
       " 'zip']"
      ]
     },
     "execution_count": 73,
     "metadata": {},
     "output_type": "execute_result"
    }
   ],
   "source": [
    "dir(__builtins__)"
   ]
  },
  {
   "cell_type": "markdown",
   "metadata": {},
   "source": [
    "#### 사용자 정의 함수"
   ]
  },
  {
   "cell_type": "code",
   "execution_count": null,
   "metadata": {},
   "outputs": [],
   "source": [
    "def 함수이름(매개변수):\n",
    "    수행할 명령어\n",
    "    return 리턴값"
   ]
  },
  {
   "cell_type": "code",
   "execution_count": 74,
   "metadata": {},
   "outputs": [],
   "source": [
    "def Hi():\n",
    "    print('Hi')               #정의만 한것이야야"
   ]
  },
  {
   "cell_type": "code",
   "execution_count": 90,
   "metadata": {},
   "outputs": [
    {
     "name": "stdout",
     "output_type": "stream",
     "text": [
      "Hi\n",
      "None\n"
     ]
    }
   ],
   "source": [
    "a=Hi()\n",
    "print(a)               #리턴값을 지정하지 않으면 그냥 리턴값이 없는 것."
   ]
  },
  {
   "cell_type": "code",
   "execution_count": 78,
   "metadata": {},
   "outputs": [
    {
     "name": "stdout",
     "output_type": "stream",
     "text": [
      "<function Hi at 0x000001ABDF7DD8A0>\n"
     ]
    }
   ],
   "source": [
    "Hi\n",
    "\n",
    "print(Hi)"
   ]
  },
  {
   "cell_type": "code",
   "execution_count": 86,
   "metadata": {},
   "outputs": [],
   "source": [
    "def NameHi(name):\n",
    "    print(f'{name}야~Hi')"
   ]
  },
  {
   "cell_type": "code",
   "execution_count": 83,
   "metadata": {},
   "outputs": [
    {
     "name": "stdout",
     "output_type": "stream",
     "text": [
      "chris야~Hi\n",
      "철수야~Hi\n",
      "영희야~Hi\n"
     ]
    }
   ],
   "source": [
    "NameHi('chris')\n",
    "NameHi('철수')\n",
    "NameHi('영희')"
   ]
  },
  {
   "cell_type": "code",
   "execution_count": 85,
   "metadata": {},
   "outputs": [
    {
     "ename": "TypeError",
     "evalue": "NameHi() takes 1 positional argument but 2 were given",
     "output_type": "error",
     "traceback": [
      "\u001b[1;31m---------------------------------------------------------------------------\u001b[0m",
      "\u001b[1;31mTypeError\u001b[0m                                 Traceback (most recent call last)",
      "Cell \u001b[1;32mIn[85], line 1\u001b[0m\n\u001b[1;32m----> 1\u001b[0m \u001b[43mNameHi\u001b[49m\u001b[43m(\u001b[49m\u001b[38;5;124;43m'\u001b[39;49m\u001b[38;5;124;43mchris\u001b[39;49m\u001b[38;5;124;43m'\u001b[39;49m\u001b[43m,\u001b[49m\u001b[38;5;124;43m'\u001b[39;49m\u001b[38;5;124;43mjames\u001b[39;49m\u001b[38;5;124;43m'\u001b[39;49m\u001b[43m)\u001b[49m\n",
      "\u001b[1;31mTypeError\u001b[0m: NameHi() takes 1 positional argument but 2 were given"
     ]
    }
   ],
   "source": [
    "NameHi('chris','james')"
   ]
  },
  {
   "cell_type": "code",
   "execution_count": 87,
   "metadata": {},
   "outputs": [],
   "source": [
    "def HiReturn():\n",
    "    return'Hi'           #반환하라\n"
   ]
  },
  {
   "cell_type": "code",
   "execution_count": 91,
   "metadata": {},
   "outputs": [
    {
     "name": "stdout",
     "output_type": "stream",
     "text": [
      "Hi\n"
     ]
    }
   ],
   "source": [
    "b=HiReturn()\n",
    "print(b)"
   ]
  },
  {
   "cell_type": "code",
   "execution_count": 92,
   "metadata": {},
   "outputs": [],
   "source": [
    "def add(a,b):\n",
    "    return a+b"
   ]
  },
  {
   "cell_type": "code",
   "execution_count": 93,
   "metadata": {},
   "outputs": [
    {
     "name": "stdout",
     "output_type": "stream",
     "text": [
      "7\n"
     ]
    }
   ],
   "source": [
    "add_num=add(3,4)\n",
    "print(add_num)"
   ]
  },
  {
   "cell_type": "code",
   "execution_count": 103,
   "metadata": {},
   "outputs": [
    {
     "name": "stdout",
     "output_type": "stream",
     "text": [
      "12\n"
     ]
    }
   ],
   "source": [
    "def num_max(a,b,c):                       #3개 중 가장 큰 수는?\n",
    "    if a>b and a>c:\n",
    "        return a\n",
    "    elif b>a and b>c:\n",
    "        return b\n",
    "    else:\n",
    "        return c \n",
    "    \n",
    "num=num_max(10,12,7)\n",
    "print(num)"
   ]
  },
  {
   "cell_type": "code",
   "execution_count": 114,
   "metadata": {},
   "outputs": [],
   "source": [
    "def num_max(num1,num2,num3):\n",
    "    max_val=num1   #이게 뭘까?\n",
    "    if num1>max_val:\n",
    "        max_val=num1\n",
    "    if num2>max_val:\n",
    "        max_val=num2\n",
    "    if num3>max_val:\n",
    "        max_val=num3\n",
    "    return max_val"
   ]
  },
  {
   "cell_type": "code",
   "execution_count": 115,
   "metadata": {},
   "outputs": [
    {
     "name": "stdout",
     "output_type": "stream",
     "text": [
      "12\n"
     ]
    }
   ],
   "source": [
    "num=num_max(10,12,7)\n",
    "print(num)"
   ]
  },
  {
   "cell_type": "code",
   "execution_count": 118,
   "metadata": {},
   "outputs": [
    {
     "name": "stdout",
     "output_type": "stream",
     "text": [
      "24\n"
     ]
    }
   ],
   "source": [
    "def num_min(num1,num2,num3,num4,num5,num6,num7):\n",
    "    min_val=num1   #이게 뭘까? 기본값\n",
    "    if num1<min_val:\n",
    "        min_val=num1\n",
    "    if num2<min_val:\n",
    "        min_val=num2\n",
    "    if num3<min_val:\n",
    "        min_val=num3\n",
    "    if num4<min_val:\n",
    "        min_val=num4\n",
    "    if num5<min_val:\n",
    "        min_val=num5\n",
    "    if num6<min_val:\n",
    "        min_val=num6\n",
    "    if num7<min_val:\n",
    "        min_val=num7\n",
    "    return min_val\n",
    "\n",
    "num=num_min(57,273,32,103,275,24,57)\n",
    "print(num)"
   ]
  },
  {
   "cell_type": "code",
   "execution_count": 122,
   "metadata": {},
   "outputs": [
    {
     "name": "stdout",
     "output_type": "stream",
     "text": [
      "2022 is leap year: False\n",
      "2010 is leap year: False\n",
      "2000 is leap year: True\n",
      "1990 is leap year: False\n"
     ]
    }
   ],
   "source": [
    "#윤년을 확인하는 함수 만들기\n",
    "# -4로 나누어 떨어지는 해는 윤년\n",
    "# -but 100으로 나누어 떨어지는 해는 윤년이 아님\n",
    "# -but 400으로 나누어 떨어지는 해는 윤년\n",
    "\n",
    "def isLeapYear(year):                      \n",
    "    if year%4==0:\n",
    "        if year%100!=0:\n",
    "            if year%400==0:\n",
    "                return True\n",
    "            else:\n",
    "                return False\n",
    "        else:\n",
    "            return True\n",
    "    else:\n",
    "        return False\n",
    "    \n",
    "years=(2022,2010,2000,1990)\n",
    "for year in years:\n",
    "    print(f'{year} is leap year: {isLeapYear(year)}')"
   ]
  },
  {
   "cell_type": "code",
   "execution_count": 123,
   "metadata": {},
   "outputs": [
    {
     "data": {
      "text/plain": [
       "True"
      ]
     },
     "execution_count": 123,
     "metadata": {},
     "output_type": "execute_result"
    }
   ],
   "source": [
    "def isLeapYear(year):\n",
    "    return(year%4==0)and(year%100!=0)or(year%400==0)\n",
    "\n",
    "isLeapYear(2024)"
   ]
  },
  {
   "cell_type": "code",
   "execution_count": 127,
   "metadata": {},
   "outputs": [
    {
     "data": {
      "text/plain": [
       "True"
      ]
     },
     "execution_count": 127,
     "metadata": {},
     "output_type": "execute_result"
    }
   ],
   "source": [
    "def isleapyear(year):\n",
    "    if year%4==0:\n",
    "        if(year%100!=0)or(year%400==0):\n",
    "            return True\n",
    "        else:\n",
    "            False\n",
    "isLeapYear(2024)"
   ]
  },
  {
   "cell_type": "code",
   "execution_count": 124,
   "metadata": {},
   "outputs": [
    {
     "name": "stdout",
     "output_type": "stream",
     "text": [
      "2022년은 윤년일까?False\n",
      "2022년은 윤년일까?False\n",
      "2022년은 윤년일까?True\n",
      "2022년은 윤년일까?False\n"
     ]
    }
   ],
   "source": [
    "def isleapyear(year):\n",
    "    if year%400==0:\n",
    "        return True\n",
    "    elif year%100==0:\n",
    "        return False\n",
    "    elif year%4==0:\n",
    "        return True\n",
    "    else:\n",
    "        return False\n",
    "    \n",
    "print(f'2022년은 윤년일까?{isleapyear(2022)}')\n",
    "print(f'2022년은 윤년일까?{isleapyear(2010)}')\n",
    "print(f'2022년은 윤년일까?{isleapyear(2000)}')\n",
    "print(f'2022년은 윤년일까?{isleapyear(1900)}')"
   ]
  },
  {
   "cell_type": "markdown",
   "metadata": {},
   "source": [
    "#### 가변인자 처리 함수"
   ]
  },
  {
   "cell_type": "code",
   "execution_count": null,
   "metadata": {},
   "outputs": [],
   "source": [
    "def add_many(*args):               #이해안됨\n",
    "    result=0\n",
    "    for i in args:\n",
    "        result+=i\n",
    "    return result"
   ]
  },
  {
   "cell_type": "code",
   "execution_count": 130,
   "metadata": {},
   "outputs": [
    {
     "name": "stdout",
     "output_type": "stream",
     "text": [
      "5\n",
      "55\n"
     ]
    }
   ],
   "source": [
    "print(add_many(2,3))\n",
    "print(add_many(1,2,3,4,5,6,7,8,9,10))"
   ]
  },
  {
   "cell_type": "code",
   "execution_count": 137,
   "metadata": {},
   "outputs": [
    {
     "name": "stdout",
     "output_type": "stream",
     "text": [
      "a b c d\n"
     ]
    }
   ],
   "source": [
    "print('a','b','c','d')"
   ]
  },
  {
   "cell_type": "code",
   "execution_count": 154,
   "metadata": {},
   "outputs": [],
   "source": [
    "def add_mul(*args,choice='add'):       #choice 빼고는 다 내꺼 가변인자* 보통은 인자가 먼저 나와야 하지만 파이썬은 눈감아줌.\n",
    "    if choice=='add':\n",
    "        result=0\n",
    "        for i in args:\n",
    "            result+=i\n",
    "    elif choice=='mul':\n",
    "        result=1\n",
    "        for i in args:\n",
    "            result*=i\n",
    "    return result"
   ]
  },
  {
   "cell_type": "code",
   "execution_count": 156,
   "metadata": {},
   "outputs": [
    {
     "name": "stdout",
     "output_type": "stream",
     "text": [
      "15\n",
      "6\n"
     ]
    }
   ],
   "source": [
    "print(add_mul(1,2,3,4,5))\n",
    "print(add_mul(1,2,3,choice='mul'))\n"
   ]
  },
  {
   "cell_type": "code",
   "execution_count": 140,
   "metadata": {},
   "outputs": [],
   "source": [
    "def add_and_mul(a,b):\n",
    "    return a+b,a*b             #튜플로 인식, 하나의 값값"
   ]
  },
  {
   "cell_type": "code",
   "execution_count": 143,
   "metadata": {},
   "outputs": [
    {
     "name": "stdout",
     "output_type": "stream",
     "text": [
      "7 12\n"
     ]
    }
   ],
   "source": [
    "result1, result2=add_and_mul(3,4)\n",
    "print(result1,result2)"
   ]
  },
  {
   "cell_type": "code",
   "execution_count": 148,
   "metadata": {},
   "outputs": [
    {
     "name": "stdout",
     "output_type": "stream",
     "text": [
      "(13, 7, 30, 3)\n"
     ]
    }
   ],
   "source": [
    "def func(a,b):\n",
    "    return a+b,a-b,a*b,a//b\n",
    "print(func(10,3))"
   ]
  },
  {
   "cell_type": "code",
   "execution_count": 149,
   "metadata": {},
   "outputs": [
    {
     "name": "stdout",
     "output_type": "stream",
     "text": [
      "13 7 30 3\n"
     ]
    }
   ],
   "source": [
    "def func(a,b):\n",
    "    return a+b,a-b,a*b,a//b\n",
    "num1,num2,num3,num4=(func(10,3))\n",
    "print(num1,num2,num3,num4)"
   ]
  }
 ],
 "metadata": {
  "kernelspec": {
   "display_name": "Python 3",
   "language": "python",
   "name": "python3"
  },
  "language_info": {
   "codemirror_mode": {
    "name": "ipython",
    "version": 3
   },
   "file_extension": ".py",
   "mimetype": "text/x-python",
   "name": "python",
   "nbconvert_exporter": "python",
   "pygments_lexer": "ipython3",
   "version": "3.13.1"
  }
 },
 "nbformat": 4,
 "nbformat_minor": 2
}
